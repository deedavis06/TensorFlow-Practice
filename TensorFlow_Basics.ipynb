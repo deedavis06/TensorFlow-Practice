{
 "cells": [
  {
   "attachments": {},
   "cell_type": "markdown",
   "metadata": {},
   "source": [
    "## TensorFlow Basics\n",
    "This Notebook will be introduction of Tensorflow, an open source platform for machine learning. "
   ]
  },
  {
   "cell_type": "code",
   "execution_count": 4,
   "metadata": {},
   "outputs": [],
   "source": [
    "import tensorflow as tf"
   ]
  },
  {
   "attachments": {},
   "cell_type": "markdown",
   "metadata": {},
   "source": [
    "Tensor rank refers to degrees or dimensions in the tensor. "
   ]
  },
  {
   "cell_type": "code",
   "execution_count": 6,
   "metadata": {},
   "outputs": [],
   "source": [
    "#This is a scalar or a tensor rank of 0 (0 dimension)\n",
    "tensor_rank0=tf.Variable(90, tf.int16)"
   ]
  },
  {
   "cell_type": "code",
   "execution_count": 7,
   "metadata": {},
   "outputs": [],
   "source": [
    "#This is 1 dimension or a tensor rank of 1\n",
    "tensor_rank1=tf.Variable([360], tf.int16)"
   ]
  },
  {
   "cell_type": "code",
   "execution_count": 8,
   "metadata": {},
   "outputs": [],
   "source": [
    "#Tensor rank of 2 (2-dimensional), typically refered to as matrices\n",
    "tensor_rank2=tf.Variable([[360,290], [34,978]], tf.int16)"
   ]
  },
  {
   "cell_type": "code",
   "execution_count": 9,
   "metadata": {},
   "outputs": [
    {
     "data": {
      "text/plain": [
       "<tf.Tensor: shape=(), dtype=int32, numpy=2>"
      ]
     },
     "execution_count": 9,
     "metadata": {},
     "output_type": "execute_result"
    }
   ],
   "source": [
    "#Find the rank of the tensor\n",
    "tf.rank(tensor_rank2)"
   ]
  },
  {
   "cell_type": "code",
   "execution_count": 10,
   "metadata": {},
   "outputs": [
    {
     "data": {
      "text/plain": [
       "TensorShape([2, 2])"
      ]
     },
     "execution_count": 10,
     "metadata": {},
     "output_type": "execute_result"
    }
   ],
   "source": [
    "#Find the shape of the tensor\n",
    "tensor_rank2.shape"
   ]
  },
  {
   "attachments": {},
   "cell_type": "markdown",
   "metadata": {},
   "source": [
    "The .shape attribute outputs ([2,2]) because in the tensor there are 2 lists with 2 elements in each list."
   ]
  },
  {
   "cell_type": "code",
   "execution_count": 13,
   "metadata": {},
   "outputs": [
    {
     "name": "stdout",
     "output_type": "stream",
     "text": [
      "tf.Tensor(\n",
      "[[[360]\n",
      "  [290]]\n",
      "\n",
      " [[ 34]\n",
      "  [978]]], shape=(2, 2, 1), dtype=int32)\n"
     ]
    }
   ],
   "source": [
    "#Change the shape of the tensor\n",
    "tensor1=tf.reshape(tensor_rank2, [2,2,1])\n",
    "print(tensor1)"
   ]
  },
  {
   "attachments": {},
   "cell_type": "markdown",
   "metadata": {},
   "source": [
    "This reshapes the data in tensor_rank2 so that there are 2 lists with two lists within that list containing 1 element each."
   ]
  },
  {
   "cell_type": "code",
   "execution_count": 14,
   "metadata": {},
   "outputs": [
    {
     "data": {
      "text/plain": [
       "<tf.Tensor: shape=(4,), dtype=int32, numpy=array([360, 290,  34, 978])>"
      ]
     },
     "execution_count": 14,
     "metadata": {},
     "output_type": "execute_result"
    }
   ],
   "source": [
    "#Flatten a tensor\n",
    "tf.reshape(tensor1, [-1])"
   ]
  },
  {
   "attachments": {},
   "cell_type": "markdown",
   "metadata": {},
   "source": [
    "## References\n",
    "https://www.freecodecamp.org/learn/machine-learning-with-python/tensorflow/introduction-to-tensorflow\n",
    "https://www.tensorflow.org/guide/basics\n",
    "\n",
    "https://developers.google.com/machine-learning/crash-course/first-steps-with-tensorflow/toolkit\n",
    "\n"
   ]
  }
 ],
 "metadata": {
  "kernelspec": {
   "display_name": "Python 3",
   "language": "python",
   "name": "python3"
  },
  "language_info": {
   "codemirror_mode": {
    "name": "ipython",
    "version": 3
   },
   "file_extension": ".py",
   "mimetype": "text/x-python",
   "name": "python",
   "nbconvert_exporter": "python",
   "pygments_lexer": "ipython3",
   "version": "3.10.7"
  },
  "orig_nbformat": 4,
  "vscode": {
   "interpreter": {
    "hash": "f6f7792fa8fe7fcaccc3e1fb304e8ac4ae961e3947fbb048d74f1654152bb044"
   }
  }
 },
 "nbformat": 4,
 "nbformat_minor": 2
}
